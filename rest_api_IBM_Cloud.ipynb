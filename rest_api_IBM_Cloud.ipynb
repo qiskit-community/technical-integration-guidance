{
 "cells": [
  {
   "cell_type": "markdown",
   "metadata": {},
   "source": [
    "# Qiskit Runtime REST API query & job submission"
   ]
  },
  {
   "cell_type": "markdown",
   "metadata": {},
   "source": [
    "* https://us-east.quantum-computing.cloud.ibm.com/openapi/ \n",
    "* General documentation at https://cloud.ibm.com/apidocs/quantum-computing \n",
    "* Users needs to [create an account through IBM Cloud Qiskit Runtime Service and access the API key and Cloud Resource Name (CRN)](https://cloud.ibm.com/apidocs/quantum-computing#authentication). "
   ]
  },
  {
   "cell_type": "markdown",
   "metadata": {},
   "source": [
    "## Authenticate via IBM Cloud API key and Cloud Resource Name"
   ]
  },
  {
   "cell_type": "code",
   "execution_count": 1,
   "metadata": {},
   "outputs": [],
   "source": [
    "with open('cloud_token') as file:\n",
    "    token=file.read()\n",
    "with open('crn_service') as file:\n",
    "    crn_service = file.read()"
   ]
  },
  {
   "cell_type": "code",
   "execution_count": 2,
   "metadata": {},
   "outputs": [],
   "source": [
    "import requests\n",
    "\n",
    "url = 'https://iam.cloud.ibm.com/identity/token'\n",
    "headers = {'Content-Type': 'application/x-www-form-urlencoded'}\n",
    "data='grant_type=urn:ibm:params:oauth:grant-type:apikey&apikey='+token\n",
    "auth_response = requests.post(url, headers= headers, data=data)\n",
    "auth_id=auth_response.json()['access_token']\n",
    "auth_type = auth_response.json()['token_type']"
   ]
  },
  {
   "cell_type": "markdown",
   "metadata": {},
   "source": [
    "## GET available backends"
   ]
  },
  {
   "cell_type": "code",
   "execution_count": 3,
   "metadata": {},
   "outputs": [
    {
     "data": {
      "text/plain": [
       "{'devices': ['ibm_brisbane',\n",
       "  'ibm_kyoto',\n",
       "  'ibm_osaka',\n",
       "  'ibmq_qasm_simulator',\n",
       "  'simulator_stabilizer',\n",
       "  'simulator_mps',\n",
       "  'simulator_extended_stabilizer',\n",
       "  'simulator_statevector']}"
      ]
     },
     "execution_count": 3,
     "metadata": {},
     "output_type": "execute_result"
    }
   ],
   "source": [
    "url_backends = 'https://us-east.quantum-computing.cloud.ibm.com/backends'\n",
    "headers = { 'Content-Type': 'application/json',\n",
    "            'Service-CRN': crn_service,\n",
    "            'Authorization':auth_type + ' ' + auth_id}\n",
    "\n",
    "backends_response = requests.get(url_backends, headers=headers)\n",
    "backends_response.json()"
   ]
  },
  {
   "cell_type": "code",
   "execution_count": 12,
   "metadata": {},
   "outputs": [
    {
     "data": {
      "text/plain": [
       "'ibm_kyoto'"
      ]
     },
     "execution_count": 12,
     "metadata": {},
     "output_type": "execute_result"
    }
   ],
   "source": [
    "backend = backends_response.json()['devices'][1]\n",
    "backend"
   ]
  },
  {
   "cell_type": "markdown",
   "metadata": {},
   "source": [
    "## Run a job"
   ]
  },
  {
   "cell_type": "markdown",
   "metadata": {},
   "source": [
    "### set up qasm circuit"
   ]
  },
  {
   "cell_type": "code",
   "execution_count": 13,
   "metadata": {},
   "outputs": [],
   "source": [
    "qasm_string='''\n",
    "OPENQASM 3;\n",
    "include \"stdgates.inc\";\n",
    "qreg q[1];\n",
    "creg c[1];\n",
    "x q[0];\n",
    "c[0] = measure q[0]; \n",
    "'''   "
   ]
  },
  {
   "cell_type": "markdown",
   "metadata": {},
   "source": [
    "Note: From March 1, 2024, Qiskit Runtime will require that circuits and observables are transformed to use only ISA (Instruction Set Architecture) instructions supported by the system before being submitted to the primitives.\n",
    "This change also streamlines service operations to produce faster results and make more efficient use of our fleet of quantum systems. For this reason, establishing the backend will no longer be optional and will become mandatory. See the [transpilation documentation](https://docs.quantum-computing.ibm.com/transpile) for instructions to transform circuits.\n",
    "* Instances using Q-CTRL performance management do not need to transform circuits or observables."
   ]
  },
  {
   "cell_type": "markdown",
   "metadata": {},
   "source": [
    "### run single job via API"
   ]
  },
  {
   "cell_type": "code",
   "execution_count": 14,
   "metadata": {},
   "outputs": [
    {
     "name": "stdout",
     "output_type": "stream",
     "text": [
      "Job created: {\"id\":\"cnq3nirii28glmfuqst0\",\"backend\":\"ibm_kyoto\"}\n"
     ]
    }
   ],
   "source": [
    "import requests\n",
    "\n",
    "url = 'https://us-east.quantum-computing.cloud.ibm.com/jobs'\n",
    "\n",
    "headers = { 'Content-Type': 'application/json',\n",
    "            'Service-CRN': crn_service,\n",
    "            'Authorization':auth_type + ' ' + auth_id,\n",
    "            'x-qx-client-application': 'qiskit-version-2/0.39.2/'+'your_application' #specifying the application you might be running from. For an actual Integration project, this option it is invaluable to know where jobs are coming from. At this time the \"qiskit-version-2/0.39.2/\" string is a necessary prefix.\n",
    "            }\n",
    "\n",
    "job_input = {\n",
    "    'program_id': 'sampler',\n",
    "    \"backend\": backend, \n",
    "    \"params\": {\n",
    "        \"circuits\": [qasm_string]#*5\n",
    "}}\n",
    "\n",
    "response = requests.post(url, headers=headers, json=job_input)\n",
    "\n",
    "if response.status_code == 200:\n",
    "    job_id = response.json().get('id')\n",
    "    print(\"Job created:\",response.text)\n",
    "else:\n",
    "    print(f\"Error: {response.status_code, response.text}\")"
   ]
  },
  {
   "cell_type": "markdown",
   "metadata": {},
   "source": [
    "## (optional) Create Session \n",
    "\n",
    "c.f. documentation at https://cloud.ibm.com/apidocs/quantum-computing \n",
    "\n",
    "Note: After March 31, 2024 Qiskit Runtime sessions creation will gain exclusive access to quantum systems, and will be charged for all time from the first job in the session, until the session is closed. Please update your code as soon as possible before that date to avoid unwanted behavior. If you use qiskit-ibm-runtime, update to version 0.20.0 or higher. If you use qiskit-ibm-provider, update to version 0.10.0 or higher. In case you are using the API directly, keep in mind that /jobs will not start a session automatically, so you will have to use the new /sessions endpoint instead."
   ]
  },
  {
   "cell_type": "code",
   "execution_count": 15,
   "metadata": {},
   "outputs": [
    {
     "name": "stdout",
     "output_type": "stream",
     "text": [
      "{'id': '87654617-2ea5-4caf-ace5-76d1337ae0c9', 'backend_name': '', 'interactive_ttl': 60, 'max_ttl': 28800, 'active_ttl': 28800, 'state': 'open', 'accepting_jobs': True, 'mode': None}\n"
     ]
    }
   ],
   "source": [
    "import json\n",
    "\n",
    "sessionsUrl = \"https://us-east.quantum-computing.cloud.ibm.com/sessions\"\n",
    " \n",
    "headersList = {\n",
    "  \"Accept\": \"application/json\",\n",
    "  'Service-CRN': crn_service,\n",
    "   'Authorization':auth_type + ' ' + auth_id,\n",
    "}\n",
    " \n",
    "payload = json.dumps({\n",
    "  \"backend\": backend\n",
    "})\n",
    " \n",
    "response = requests.request(\"POST\", sessionsUrl, data=payload,  headers=headersList)\n",
    " \n",
    "sessionId = response.json()['id']\n",
    " \n",
    "print(response.json())"
   ]
  },
  {
   "cell_type": "markdown",
   "metadata": {},
   "source": [
    "### Run jobs in the created Session"
   ]
  },
  {
   "cell_type": "code",
   "execution_count": 17,
   "metadata": {},
   "outputs": [
    {
     "name": "stdout",
     "output_type": "stream",
     "text": [
      "Job created: {\"id\":\"cnq3odrii28glmfuqt7g\",\"backend\":\"ibm_kyoto\",\"session_id\":\"87654617-2ea5-4caf-ace5-76d1337ae0c9\"}\n"
     ]
    }
   ],
   "source": [
    "job_input = {\n",
    "    'program_id': 'sampler',\n",
    "    \"backend\": backend,\n",
    "    \"session_id\": sessionId,\n",
    "    \"params\": {\n",
    "        \"circuits\": [qasm_string]*2\n",
    "}}\n",
    "\n",
    "response = requests.post(url, headers=headers, json=job_input)\n",
    "\n",
    "if response.status_code == 200:\n",
    "    job_id = response.json().get('id')\n",
    "    print(\"Job created:\",response.text)\n",
    "else:\n",
    "    print(f\"Error: {response.status_code}\")"
   ]
  },
  {
   "cell_type": "markdown",
   "metadata": {},
   "source": [
    "### Query Websocket for live job update and close Session\n",
    "\n",
    "It is very good practice to close a Session when all jobs are done. This will reduce wait time for subsequent Users. So we will listen for a status change of the last job via websocket and close the Session when done."
   ]
  },
  {
   "cell_type": "code",
   "execution_count": 20,
   "metadata": {},
   "outputs": [
    {
     "name": "stdout",
     "output_type": "stream",
     "text": [
      "Received message: Listening to results for job: cnq3odrii28glmfuqt7g\n",
      "\n",
      "Received message: {\"quasi_dists\": [{\"0\": 0.11901811986990868, \"1\": 0.8809818801300914}, {\"0\": 0.11950209075422027, \"1\": 0.8804979092457796}], \"metadata\": [{\"shots\": 4000, \"circuit_metadata\": {}, \"readout_mitigation_overhead\": 3.941980554027381, \"readout_mitigation_time\": 0.0735075231641531}, {\"shots\": 4000, \"circuit_metadata\": {}, \"readout_mitigation_overhead\": 3.941980554027381, \"readout_mitigation_time\": 0.1048154029995203}]}\n",
      "WebSocket connection closed.\n"
     ]
    }
   ],
   "source": [
    "import asyncio\n",
    "import websockets\n",
    "\n",
    "async def receive_status_updates(api_key):\n",
    "    uri = \"wss://us-east.quantum-computing.cloud.ibm.com/stream/jobs/\"+job_id \n",
    "    extra_headers = {'Authorization': f'Bearer {api_key}',\n",
    "                     'Service-CRN': crn_service}\n",
    "\n",
    "    async with websockets.connect(uri, extra_headers=extra_headers) as websocket:\n",
    "        while True:\n",
    "            try:\n",
    "                message = await websocket.recv()\n",
    "                print(f\"Received message: {message}\")  \n",
    "            except websockets.exceptions.ConnectionClosed:\n",
    "                print(\"WebSocket connection closed.\")\n",
    "                break\n",
    "\n",
    "await receive_status_updates(auth_id)\n",
    "\n",
    "#subsequently closing Session\n",
    "status_result = requests.get(url+'/'+job_id,headers=headers)\n",
    "sessionsurl = 'https://runtime-us-east.quantum-computing.ibm.com/sessions/'+sessionId+'/close'\n",
    "\n",
    "if status_result.json()['state']['status']=='Completed':\n",
    "   response = requests.delete(sessionsurl,headers=headers)\n",
    "else:\n",
    "   print('waiting for job to complete before closing Session '+sessionId)\n",
    "\n",
    "if response.status_code==204:\n",
    "    print('Session '+sessionId+' was closed')"
   ]
  },
  {
   "cell_type": "markdown",
   "metadata": {},
   "source": [
    "### Get results"
   ]
  },
  {
   "cell_type": "code",
   "execution_count": 21,
   "metadata": {},
   "outputs": [
    {
     "data": {
      "text/plain": [
       "{'status': 'Completed'}"
      ]
     },
     "execution_count": 21,
     "metadata": {},
     "output_type": "execute_result"
    }
   ],
   "source": [
    "response_status= requests.get(url+'/'+job_id, headers=headers)\n",
    "response_status.json().get('state')"
   ]
  },
  {
   "cell_type": "code",
   "execution_count": 22,
   "metadata": {},
   "outputs": [
    {
     "data": {
      "text/plain": [
       "{'quasi_dists': [{'0': 0.11901811986990868, '1': 0.8809818801300914},\n",
       "  {'0': 0.11950209075422027, '1': 0.8804979092457796}],\n",
       " 'metadata': [{'shots': 4000,\n",
       "   'circuit_metadata': {},\n",
       "   'readout_mitigation_overhead': 3.941980554027381,\n",
       "   'readout_mitigation_time': 0.0735075231641531},\n",
       "  {'shots': 4000,\n",
       "   'circuit_metadata': {},\n",
       "   'readout_mitigation_overhead': 3.941980554027381,\n",
       "   'readout_mitigation_time': 0.1048154029995203}]}"
      ]
     },
     "execution_count": 22,
     "metadata": {},
     "output_type": "execute_result"
    }
   ],
   "source": [
    "response_result= requests.get(url+'/'+job_id+'/results', headers=headers)\n",
    "\n",
    "response_result.json()"
   ]
  }
 ],
 "metadata": {
  "kernelspec": {
   "display_name": "qiskitEnvironment",
   "language": "python",
   "name": "python3"
  },
  "language_info": {
   "codemirror_mode": {
    "name": "ipython",
    "version": 3
   },
   "file_extension": ".py",
   "mimetype": "text/x-python",
   "name": "python",
   "nbconvert_exporter": "python",
   "pygments_lexer": "ipython3",
   "version": "3.12.0"
  },
  "orig_nbformat": 4,
  "vscode": {
   "interpreter": {
    "hash": "1f34ebf922ea70f2437b8214c42897c80e17c505733c5bc7beb7fdf0e25edb45"
   }
  }
 },
 "nbformat": 4,
 "nbformat_minor": 2
}
